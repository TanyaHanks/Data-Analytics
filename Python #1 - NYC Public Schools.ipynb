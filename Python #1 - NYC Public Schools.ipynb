{
 "cells": [
  {
   "cell_type": "markdown",
   "id": "337e9df2",
   "metadata": {},
   "source": [
    "# An Exploration of NYC Public Schools - Python Project #1"
   ]
  },
  {
   "cell_type": "code",
   "execution_count": 19,
   "id": "35da77d0",
   "metadata": {},
   "outputs": [],
   "source": [
    "# Importing pandas and the NYC Public Schools Data set:\n",
    "\n",
    "import pandas as pd\n",
    "df = pd.read_csv('https://raw.githubusercontent.com/CunyLaguardiaDataAnalytics/datasets/master/2014-15_To_2016-17_School-_Level_NYC_Regents_Report_For_All_Variables.csv')"
   ]
  },
  {
   "cell_type": "code",
   "execution_count": 20,
   "id": "bc871784",
   "metadata": {},
   "outputs": [
    {
     "data": {
      "text/html": [
       "<div>\n",
       "<style scoped>\n",
       "    .dataframe tbody tr th:only-of-type {\n",
       "        vertical-align: middle;\n",
       "    }\n",
       "\n",
       "    .dataframe tbody tr th {\n",
       "        vertical-align: top;\n",
       "    }\n",
       "\n",
       "    .dataframe thead th {\n",
       "        text-align: right;\n",
       "    }\n",
       "</style>\n",
       "<table border=\"1\" class=\"dataframe\">\n",
       "  <thead>\n",
       "    <tr style=\"text-align: right;\">\n",
       "      <th></th>\n",
       "      <th>School DBN</th>\n",
       "      <th>School Name</th>\n",
       "      <th>School Level</th>\n",
       "      <th>Regents Exam</th>\n",
       "      <th>Year</th>\n",
       "      <th>Total Tested</th>\n",
       "      <th>Mean Score</th>\n",
       "      <th>Number Scoring Below 65</th>\n",
       "      <th>Percent Scoring Below 65</th>\n",
       "      <th>Number Scoring 65 or Above</th>\n",
       "      <th>Percent Scoring 65 or Above</th>\n",
       "      <th>Number Scoring 80 or Above</th>\n",
       "      <th>Percent Scoring 80 or Above</th>\n",
       "      <th>Number Scoring CR</th>\n",
       "      <th>Percent Scoring CR</th>\n",
       "    </tr>\n",
       "  </thead>\n",
       "  <tbody>\n",
       "    <tr>\n",
       "      <th>0</th>\n",
       "      <td>01M034</td>\n",
       "      <td>P.S. 034 Franklin D. Roosevelt</td>\n",
       "      <td>K-8</td>\n",
       "      <td>Common Core Algebra</td>\n",
       "      <td>2017</td>\n",
       "      <td>4</td>\n",
       "      <td>s</td>\n",
       "      <td>s</td>\n",
       "      <td>s</td>\n",
       "      <td>s</td>\n",
       "      <td>s</td>\n",
       "      <td>s</td>\n",
       "      <td>s</td>\n",
       "      <td>na</td>\n",
       "      <td>na</td>\n",
       "    </tr>\n",
       "    <tr>\n",
       "      <th>1</th>\n",
       "      <td>01M034</td>\n",
       "      <td>P.S. 034 Franklin D. Roosevelt</td>\n",
       "      <td>K-8</td>\n",
       "      <td>Living Environment</td>\n",
       "      <td>2015</td>\n",
       "      <td>16</td>\n",
       "      <td>77.9</td>\n",
       "      <td>1</td>\n",
       "      <td>6.3</td>\n",
       "      <td>15</td>\n",
       "      <td>93.8</td>\n",
       "      <td>7</td>\n",
       "      <td>43.8</td>\n",
       "      <td>na</td>\n",
       "      <td>na</td>\n",
       "    </tr>\n",
       "    <tr>\n",
       "      <th>2</th>\n",
       "      <td>01M034</td>\n",
       "      <td>P.S. 034 Franklin D. Roosevelt</td>\n",
       "      <td>K-8</td>\n",
       "      <td>Living Environment</td>\n",
       "      <td>2016</td>\n",
       "      <td>9</td>\n",
       "      <td>74</td>\n",
       "      <td>1</td>\n",
       "      <td>11.1</td>\n",
       "      <td>8</td>\n",
       "      <td>88.9</td>\n",
       "      <td>2</td>\n",
       "      <td>22.2</td>\n",
       "      <td>na</td>\n",
       "      <td>na</td>\n",
       "    </tr>\n",
       "  </tbody>\n",
       "</table>\n",
       "</div>"
      ],
      "text/plain": [
       "  School DBN                     School Name School Level  \\\n",
       "0     01M034  P.S. 034 Franklin D. Roosevelt          K-8   \n",
       "1     01M034  P.S. 034 Franklin D. Roosevelt          K-8   \n",
       "2     01M034  P.S. 034 Franklin D. Roosevelt          K-8   \n",
       "\n",
       "          Regents Exam  Year  Total Tested Mean Score Number Scoring Below 65  \\\n",
       "0  Common Core Algebra  2017             4          s                       s   \n",
       "1   Living Environment  2015            16       77.9                       1   \n",
       "2   Living Environment  2016             9         74                       1   \n",
       "\n",
       "  Percent Scoring Below 65 Number Scoring 65 or Above  \\\n",
       "0                        s                          s   \n",
       "1                      6.3                         15   \n",
       "2                     11.1                          8   \n",
       "\n",
       "  Percent Scoring 65 or Above Number Scoring 80 or Above  \\\n",
       "0                           s                          s   \n",
       "1                        93.8                          7   \n",
       "2                        88.9                          2   \n",
       "\n",
       "  Percent Scoring 80 or Above Number Scoring CR Percent Scoring CR  \n",
       "0                           s                na                 na  \n",
       "1                        43.8                na                 na  \n",
       "2                        22.2                na                 na  "
      ]
     },
     "execution_count": 20,
     "metadata": {},
     "output_type": "execute_result"
    }
   ],
   "source": [
    "# Displaying the top 3 rows of data to visuallize the structure:\n",
    "\n",
    "df.head(3)"
   ]
  },
  {
   "cell_type": "code",
   "execution_count": 21,
   "id": "243d2cea",
   "metadata": {},
   "outputs": [
    {
     "data": {
      "text/html": [
       "<div>\n",
       "<style scoped>\n",
       "    .dataframe tbody tr th:only-of-type {\n",
       "        vertical-align: middle;\n",
       "    }\n",
       "\n",
       "    .dataframe tbody tr th {\n",
       "        vertical-align: top;\n",
       "    }\n",
       "\n",
       "    .dataframe thead th {\n",
       "        text-align: right;\n",
       "    }\n",
       "</style>\n",
       "<table border=\"1\" class=\"dataframe\">\n",
       "  <thead>\n",
       "    <tr style=\"text-align: right;\">\n",
       "      <th></th>\n",
       "      <th>School DBN</th>\n",
       "      <th>School Name</th>\n",
       "      <th>School Level</th>\n",
       "      <th>Regents Exam</th>\n",
       "      <th>Year</th>\n",
       "      <th>Total Tested</th>\n",
       "      <th>Mean Score</th>\n",
       "      <th>Number Scoring Below 65</th>\n",
       "      <th>Percent Scoring Below 65</th>\n",
       "      <th>Number Scoring 65 or Above</th>\n",
       "      <th>Percent Scoring 65 or Above</th>\n",
       "      <th>Number Scoring 80 or Above</th>\n",
       "      <th>Percent Scoring 80 or Above</th>\n",
       "      <th>Number Scoring CR</th>\n",
       "      <th>Percent Scoring CR</th>\n",
       "    </tr>\n",
       "  </thead>\n",
       "  <tbody>\n",
       "    <tr>\n",
       "      <th>0</th>\n",
       "      <td>01M034</td>\n",
       "      <td>P.S. 034 Franklin D. Roosevelt</td>\n",
       "      <td>K-8</td>\n",
       "      <td>Common Core Algebra</td>\n",
       "      <td>2017</td>\n",
       "      <td>4</td>\n",
       "      <td>NaN</td>\n",
       "      <td>NaN</td>\n",
       "      <td>NaN</td>\n",
       "      <td>NaN</td>\n",
       "      <td>NaN</td>\n",
       "      <td>NaN</td>\n",
       "      <td>NaN</td>\n",
       "      <td>NaN</td>\n",
       "      <td>NaN</td>\n",
       "    </tr>\n",
       "    <tr>\n",
       "      <th>1</th>\n",
       "      <td>01M034</td>\n",
       "      <td>P.S. 034 Franklin D. Roosevelt</td>\n",
       "      <td>K-8</td>\n",
       "      <td>Living Environment</td>\n",
       "      <td>2015</td>\n",
       "      <td>16</td>\n",
       "      <td>77.9</td>\n",
       "      <td>1.0</td>\n",
       "      <td>6.3</td>\n",
       "      <td>15.0</td>\n",
       "      <td>93.8</td>\n",
       "      <td>7.0</td>\n",
       "      <td>43.8</td>\n",
       "      <td>NaN</td>\n",
       "      <td>NaN</td>\n",
       "    </tr>\n",
       "    <tr>\n",
       "      <th>2</th>\n",
       "      <td>01M034</td>\n",
       "      <td>P.S. 034 Franklin D. Roosevelt</td>\n",
       "      <td>K-8</td>\n",
       "      <td>Living Environment</td>\n",
       "      <td>2016</td>\n",
       "      <td>9</td>\n",
       "      <td>74.0</td>\n",
       "      <td>1.0</td>\n",
       "      <td>11.1</td>\n",
       "      <td>8.0</td>\n",
       "      <td>88.9</td>\n",
       "      <td>2.0</td>\n",
       "      <td>22.2</td>\n",
       "      <td>NaN</td>\n",
       "      <td>NaN</td>\n",
       "    </tr>\n",
       "  </tbody>\n",
       "</table>\n",
       "</div>"
      ],
      "text/plain": [
       "  School DBN                     School Name School Level  \\\n",
       "0     01M034  P.S. 034 Franklin D. Roosevelt          K-8   \n",
       "1     01M034  P.S. 034 Franklin D. Roosevelt          K-8   \n",
       "2     01M034  P.S. 034 Franklin D. Roosevelt          K-8   \n",
       "\n",
       "          Regents Exam  Year  Total Tested  Mean Score  \\\n",
       "0  Common Core Algebra  2017             4         NaN   \n",
       "1   Living Environment  2015            16        77.9   \n",
       "2   Living Environment  2016             9        74.0   \n",
       "\n",
       "   Number Scoring Below 65  Percent Scoring Below 65  \\\n",
       "0                      NaN                       NaN   \n",
       "1                      1.0                       6.3   \n",
       "2                      1.0                      11.1   \n",
       "\n",
       "   Number Scoring 65 or Above  Percent Scoring 65 or Above  \\\n",
       "0                         NaN                          NaN   \n",
       "1                        15.0                         93.8   \n",
       "2                         8.0                         88.9   \n",
       "\n",
       "   Number Scoring 80 or Above  Percent Scoring 80 or Above  Number Scoring CR  \\\n",
       "0                         NaN                          NaN                NaN   \n",
       "1                         7.0                         43.8                NaN   \n",
       "2                         2.0                         22.2                NaN   \n",
       "\n",
       "   Percent Scoring CR  \n",
       "0                 NaN  \n",
       "1                 NaN  \n",
       "2                 NaN  "
      ]
     },
     "execution_count": 21,
     "metadata": {},
     "output_type": "execute_result"
    }
   ],
   "source": [
    "# There is invalid data in this dataset; \n",
    "# This code is cleaning up the data buy removing: n/a, na, --, s and replacing them with \"NaN\";\n",
    "# Displaying the top 3 rows of data after the cleanup:\n",
    "\n",
    "missing_values = [\"n/a\", \"na\", \"--\", \"s\"]\n",
    "df = pd.read_csv(\"https://raw.githubusercontent.com/CunyLaguardiaDataAnalytics/datasets/master/2014-15_To_2016-17_School-_Level_NYC_Regents_Report_For_All_Variables.csv\",na_values=missing_values)\n",
    "df.head(3)"
   ]
  },
  {
   "cell_type": "code",
   "execution_count": 22,
   "id": "1b5f23fa",
   "metadata": {},
   "outputs": [
    {
     "data": {
      "text/html": [
       "<div>\n",
       "<style scoped>\n",
       "    .dataframe tbody tr th:only-of-type {\n",
       "        vertical-align: middle;\n",
       "    }\n",
       "\n",
       "    .dataframe tbody tr th {\n",
       "        vertical-align: top;\n",
       "    }\n",
       "\n",
       "    .dataframe thead th {\n",
       "        text-align: right;\n",
       "    }\n",
       "</style>\n",
       "<table border=\"1\" class=\"dataframe\">\n",
       "  <thead>\n",
       "    <tr style=\"text-align: right;\">\n",
       "      <th></th>\n",
       "      <th>Year</th>\n",
       "      <th>Total Tested</th>\n",
       "      <th>Mean Score</th>\n",
       "      <th>Number Scoring Below 65</th>\n",
       "      <th>Percent Scoring Below 65</th>\n",
       "      <th>Number Scoring 65 or Above</th>\n",
       "      <th>Percent Scoring 65 or Above</th>\n",
       "      <th>Number Scoring 80 or Above</th>\n",
       "      <th>Percent Scoring 80 or Above</th>\n",
       "      <th>Number Scoring CR</th>\n",
       "      <th>Percent Scoring CR</th>\n",
       "    </tr>\n",
       "  </thead>\n",
       "  <tbody>\n",
       "    <tr>\n",
       "      <th>count</th>\n",
       "      <td>212331.000000</td>\n",
       "      <td>212331.000000</td>\n",
       "      <td>137109.000000</td>\n",
       "      <td>137109.000000</td>\n",
       "      <td>137109.000000</td>\n",
       "      <td>137109.000000</td>\n",
       "      <td>137109.000000</td>\n",
       "      <td>137109.000000</td>\n",
       "      <td>137109.000000</td>\n",
       "      <td>69651.000000</td>\n",
       "      <td>69651.000000</td>\n",
       "    </tr>\n",
       "    <tr>\n",
       "      <th>mean</th>\n",
       "      <td>2015.956069</td>\n",
       "      <td>49.364200</td>\n",
       "      <td>65.998967</td>\n",
       "      <td>25.140297</td>\n",
       "      <td>41.933632</td>\n",
       "      <td>46.443516</td>\n",
       "      <td>58.067855</td>\n",
       "      <td>20.506655</td>\n",
       "      <td>22.692027</td>\n",
       "      <td>29.959340</td>\n",
       "      <td>36.213730</td>\n",
       "    </tr>\n",
       "    <tr>\n",
       "      <th>std</th>\n",
       "      <td>0.799726</td>\n",
       "      <td>93.023576</td>\n",
       "      <td>11.288883</td>\n",
       "      <td>37.155199</td>\n",
       "      <td>28.405737</td>\n",
       "      <td>85.187123</td>\n",
       "      <td>28.405517</td>\n",
       "      <td>56.301578</td>\n",
       "      <td>26.160987</td>\n",
       "      <td>68.306798</td>\n",
       "      <td>31.092605</td>\n",
       "    </tr>\n",
       "    <tr>\n",
       "      <th>min</th>\n",
       "      <td>2015.000000</td>\n",
       "      <td>1.000000</td>\n",
       "      <td>15.000000</td>\n",
       "      <td>0.000000</td>\n",
       "      <td>0.000000</td>\n",
       "      <td>0.000000</td>\n",
       "      <td>0.000000</td>\n",
       "      <td>0.000000</td>\n",
       "      <td>0.000000</td>\n",
       "      <td>0.000000</td>\n",
       "      <td>0.000000</td>\n",
       "    </tr>\n",
       "    <tr>\n",
       "      <th>25%</th>\n",
       "      <td>2015.000000</td>\n",
       "      <td>5.000000</td>\n",
       "      <td>58.300000</td>\n",
       "      <td>5.000000</td>\n",
       "      <td>17.500000</td>\n",
       "      <td>8.000000</td>\n",
       "      <td>36.000000</td>\n",
       "      <td>1.000000</td>\n",
       "      <td>2.200000</td>\n",
       "      <td>2.000000</td>\n",
       "      <td>8.800000</td>\n",
       "    </tr>\n",
       "    <tr>\n",
       "      <th>50%</th>\n",
       "      <td>2016.000000</td>\n",
       "      <td>20.000000</td>\n",
       "      <td>65.400000</td>\n",
       "      <td>13.000000</td>\n",
       "      <td>40.200000</td>\n",
       "      <td>21.000000</td>\n",
       "      <td>59.800000</td>\n",
       "      <td>5.000000</td>\n",
       "      <td>12.500000</td>\n",
       "      <td>9.000000</td>\n",
       "      <td>29.000000</td>\n",
       "    </tr>\n",
       "    <tr>\n",
       "      <th>75%</th>\n",
       "      <td>2017.000000</td>\n",
       "      <td>57.000000</td>\n",
       "      <td>73.400000</td>\n",
       "      <td>31.000000</td>\n",
       "      <td>64.000000</td>\n",
       "      <td>52.000000</td>\n",
       "      <td>82.500000</td>\n",
       "      <td>18.000000</td>\n",
       "      <td>34.500000</td>\n",
       "      <td>31.000000</td>\n",
       "      <td>58.800000</td>\n",
       "    </tr>\n",
       "    <tr>\n",
       "      <th>max</th>\n",
       "      <td>2017.000000</td>\n",
       "      <td>1729.000000</td>\n",
       "      <td>98.700000</td>\n",
       "      <td>697.000000</td>\n",
       "      <td>100.000000</td>\n",
       "      <td>1607.000000</td>\n",
       "      <td>100.000000</td>\n",
       "      <td>1365.000000</td>\n",
       "      <td>100.000000</td>\n",
       "      <td>1465.000000</td>\n",
       "      <td>100.000000</td>\n",
       "    </tr>\n",
       "  </tbody>\n",
       "</table>\n",
       "</div>"
      ],
      "text/plain": [
       "                Year   Total Tested     Mean Score  Number Scoring Below 65  \\\n",
       "count  212331.000000  212331.000000  137109.000000            137109.000000   \n",
       "mean     2015.956069      49.364200      65.998967                25.140297   \n",
       "std         0.799726      93.023576      11.288883                37.155199   \n",
       "min      2015.000000       1.000000      15.000000                 0.000000   \n",
       "25%      2015.000000       5.000000      58.300000                 5.000000   \n",
       "50%      2016.000000      20.000000      65.400000                13.000000   \n",
       "75%      2017.000000      57.000000      73.400000                31.000000   \n",
       "max      2017.000000    1729.000000      98.700000               697.000000   \n",
       "\n",
       "       Percent Scoring Below 65  Number Scoring 65 or Above  \\\n",
       "count             137109.000000               137109.000000   \n",
       "mean                  41.933632                   46.443516   \n",
       "std                   28.405737                   85.187123   \n",
       "min                    0.000000                    0.000000   \n",
       "25%                   17.500000                    8.000000   \n",
       "50%                   40.200000                   21.000000   \n",
       "75%                   64.000000                   52.000000   \n",
       "max                  100.000000                 1607.000000   \n",
       "\n",
       "       Percent Scoring 65 or Above  Number Scoring 80 or Above  \\\n",
       "count                137109.000000               137109.000000   \n",
       "mean                     58.067855                   20.506655   \n",
       "std                      28.405517                   56.301578   \n",
       "min                       0.000000                    0.000000   \n",
       "25%                      36.000000                    1.000000   \n",
       "50%                      59.800000                    5.000000   \n",
       "75%                      82.500000                   18.000000   \n",
       "max                     100.000000                 1365.000000   \n",
       "\n",
       "       Percent Scoring 80 or Above  Number Scoring CR  Percent Scoring CR  \n",
       "count                137109.000000       69651.000000        69651.000000  \n",
       "mean                     22.692027          29.959340           36.213730  \n",
       "std                      26.160987          68.306798           31.092605  \n",
       "min                       0.000000           0.000000            0.000000  \n",
       "25%                       2.200000           2.000000            8.800000  \n",
       "50%                      12.500000           9.000000           29.000000  \n",
       "75%                      34.500000          31.000000           58.800000  \n",
       "max                     100.000000        1465.000000          100.000000  "
      ]
     },
     "execution_count": 22,
     "metadata": {},
     "output_type": "execute_result"
    }
   ],
   "source": [
    "# runniing the statistics on the data:\n",
    "\n",
    "df.describe()"
   ]
  },
  {
   "cell_type": "code",
   "execution_count": 23,
   "id": "4a151e67",
   "metadata": {},
   "outputs": [
    {
     "data": {
      "text/html": [
       "<div>\n",
       "<style scoped>\n",
       "    .dataframe tbody tr th:only-of-type {\n",
       "        vertical-align: middle;\n",
       "    }\n",
       "\n",
       "    .dataframe tbody tr th {\n",
       "        vertical-align: top;\n",
       "    }\n",
       "\n",
       "    .dataframe thead th {\n",
       "        text-align: right;\n",
       "    }\n",
       "</style>\n",
       "<table border=\"1\" class=\"dataframe\">\n",
       "  <thead>\n",
       "    <tr style=\"text-align: right;\">\n",
       "      <th></th>\n",
       "      <th>School DBN</th>\n",
       "      <th>School Name</th>\n",
       "      <th>School Level</th>\n",
       "      <th>Regents Exam</th>\n",
       "      <th>Year</th>\n",
       "      <th>Total Tested</th>\n",
       "      <th>Mean Score</th>\n",
       "      <th>Number Scoring Below 65</th>\n",
       "      <th>Percent Scoring Below 65</th>\n",
       "      <th>Number Scoring 65 or Above</th>\n",
       "      <th>Percent Scoring 65 or Above</th>\n",
       "      <th>Number Scoring 80 or Above</th>\n",
       "      <th>Percent Scoring 80 or Above</th>\n",
       "      <th>Number Scoring CR</th>\n",
       "      <th>Percent Scoring CR</th>\n",
       "    </tr>\n",
       "  </thead>\n",
       "  <tbody>\n",
       "    <tr>\n",
       "      <th>37582</th>\n",
       "      <td>16K498</td>\n",
       "      <td>Brooklyn High School for Law and Technology</td>\n",
       "      <td>High school</td>\n",
       "      <td>Common Core English</td>\n",
       "      <td>2015</td>\n",
       "      <td>12</td>\n",
       "      <td>15.0</td>\n",
       "      <td>12.0</td>\n",
       "      <td>100.0</td>\n",
       "      <td>0.0</td>\n",
       "      <td>0.0</td>\n",
       "      <td>0.0</td>\n",
       "      <td>0.0</td>\n",
       "      <td>0.0</td>\n",
       "      <td>0.0</td>\n",
       "    </tr>\n",
       "  </tbody>\n",
       "</table>\n",
       "</div>"
      ],
      "text/plain": [
       "      School DBN                                  School Name School Level  \\\n",
       "37582     16K498  Brooklyn High School for Law and Technology  High school   \n",
       "\n",
       "              Regents Exam  Year  Total Tested  Mean Score  \\\n",
       "37582  Common Core English  2015            12        15.0   \n",
       "\n",
       "       Number Scoring Below 65  Percent Scoring Below 65  \\\n",
       "37582                     12.0                     100.0   \n",
       "\n",
       "       Number Scoring 65 or Above  Percent Scoring 65 or Above  \\\n",
       "37582                         0.0                          0.0   \n",
       "\n",
       "       Number Scoring 80 or Above  Percent Scoring 80 or Above  \\\n",
       "37582                         0.0                          0.0   \n",
       "\n",
       "       Number Scoring CR  Percent Scoring CR  \n",
       "37582                0.0                 0.0  "
      ]
     },
     "execution_count": 23,
     "metadata": {},
     "output_type": "execute_result"
    }
   ],
   "source": [
    "# Identifying the minimum Mean Score of the Regents Exam; \n",
    "# Displaying the school and the name of the Regents Exam that scored the lowest:\n",
    "\n",
    "df[df['Mean Score'] == 15.00]"
   ]
  },
  {
   "cell_type": "code",
   "execution_count": 24,
   "id": "bead3e35",
   "metadata": {},
   "outputs": [
    {
     "data": {
      "text/plain": [
       "School DBN                                                          16K498\n",
       "School Name                    Brooklyn High School for Law and Technology\n",
       "School Level                                                   High school\n",
       "Regents Exam                                           Common Core English\n",
       "Year                                                                  2015\n",
       "Total Tested                                                            12\n",
       "Mean Score                                                            15.0\n",
       "Number Scoring Below 65                                               12.0\n",
       "Percent Scoring Below 65                                             100.0\n",
       "Number Scoring 65 or Above                                             0.0\n",
       "Percent Scoring 65 or Above                                            0.0\n",
       "Number Scoring 80 or Above                                             0.0\n",
       "Percent Scoring 80 or Above                                            0.0\n",
       "Number Scoring CR                                                      0.0\n",
       "Percent Scoring CR                                                     0.0\n",
       "Name: 37582, dtype: object"
      ]
     },
     "execution_count": 24,
     "metadata": {},
     "output_type": "execute_result"
    }
   ],
   "source": [
    "# Extracting information on the record for the minimum Mean Score for the Regents Exam:\n",
    "df.loc[37582]"
   ]
  },
  {
   "cell_type": "code",
   "execution_count": 25,
   "id": "6ac3b840",
   "metadata": {},
   "outputs": [
    {
     "data": {
      "text/html": [
       "<div>\n",
       "<style scoped>\n",
       "    .dataframe tbody tr th:only-of-type {\n",
       "        vertical-align: middle;\n",
       "    }\n",
       "\n",
       "    .dataframe tbody tr th {\n",
       "        vertical-align: top;\n",
       "    }\n",
       "\n",
       "    .dataframe thead th {\n",
       "        text-align: right;\n",
       "    }\n",
       "</style>\n",
       "<table border=\"1\" class=\"dataframe\">\n",
       "  <thead>\n",
       "    <tr style=\"text-align: right;\">\n",
       "      <th></th>\n",
       "      <th>School DBN</th>\n",
       "      <th>School Name</th>\n",
       "      <th>School Level</th>\n",
       "      <th>Regents Exam</th>\n",
       "      <th>Year</th>\n",
       "      <th>Total Tested</th>\n",
       "      <th>Mean Score</th>\n",
       "      <th>Number Scoring Below 65</th>\n",
       "      <th>Percent Scoring Below 65</th>\n",
       "      <th>Number Scoring 65 or Above</th>\n",
       "      <th>Percent Scoring 65 or Above</th>\n",
       "      <th>Number Scoring 80 or Above</th>\n",
       "      <th>Percent Scoring 80 or Above</th>\n",
       "      <th>Number Scoring CR</th>\n",
       "      <th>Percent Scoring CR</th>\n",
       "    </tr>\n",
       "  </thead>\n",
       "  <tbody>\n",
       "    <tr>\n",
       "      <th>166460</th>\n",
       "      <td>10X696</td>\n",
       "      <td>High School of American Studies at Lehman College</td>\n",
       "      <td>High school</td>\n",
       "      <td>U.S. History and Government</td>\n",
       "      <td>2017</td>\n",
       "      <td>15</td>\n",
       "      <td>98.7</td>\n",
       "      <td>0.0</td>\n",
       "      <td>0.0</td>\n",
       "      <td>15.0</td>\n",
       "      <td>100.0</td>\n",
       "      <td>15.0</td>\n",
       "      <td>100.0</td>\n",
       "      <td>NaN</td>\n",
       "      <td>NaN</td>\n",
       "    </tr>\n",
       "  </tbody>\n",
       "</table>\n",
       "</div>"
      ],
      "text/plain": [
       "       School DBN                                        School Name  \\\n",
       "166460     10X696  High School of American Studies at Lehman College   \n",
       "\n",
       "       School Level                 Regents Exam  Year  Total Tested  \\\n",
       "166460  High school  U.S. History and Government  2017            15   \n",
       "\n",
       "        Mean Score  Number Scoring Below 65  Percent Scoring Below 65  \\\n",
       "166460        98.7                      0.0                       0.0   \n",
       "\n",
       "        Number Scoring 65 or Above  Percent Scoring 65 or Above  \\\n",
       "166460                        15.0                        100.0   \n",
       "\n",
       "        Number Scoring 80 or Above  Percent Scoring 80 or Above  \\\n",
       "166460                        15.0                        100.0   \n",
       "\n",
       "        Number Scoring CR  Percent Scoring CR  \n",
       "166460                NaN                 NaN  "
      ]
     },
     "execution_count": 25,
     "metadata": {},
     "output_type": "execute_result"
    }
   ],
   "source": [
    "# Identifying the max Mean Score;\n",
    "# Displaying the school and the name of the Regents Exam that scored the highest:\n",
    "\n",
    "df[df['Mean Score'] == 98.70]"
   ]
  },
  {
   "cell_type": "code",
   "execution_count": 26,
   "id": "56f2696d",
   "metadata": {},
   "outputs": [
    {
     "data": {
      "text/plain": [
       "School DBN                                                                10X696\n",
       "School Name                    High School of American Studies at Lehman College\n",
       "School Level                                                         High school\n",
       "Regents Exam                                         U.S. History and Government\n",
       "Year                                                                        2017\n",
       "Total Tested                                                                  15\n",
       "Mean Score                                                                  98.7\n",
       "Number Scoring Below 65                                                      0.0\n",
       "Percent Scoring Below 65                                                     0.0\n",
       "Number Scoring 65 or Above                                                  15.0\n",
       "Percent Scoring 65 or Above                                                100.0\n",
       "Number Scoring 80 or Above                                                  15.0\n",
       "Percent Scoring 80 or Above                                                100.0\n",
       "Number Scoring CR                                                            NaN\n",
       "Percent Scoring CR                                                           NaN\n",
       "Name: 166460, dtype: object"
      ]
     },
     "execution_count": 26,
     "metadata": {},
     "output_type": "execute_result"
    }
   ],
   "source": [
    "# Extracting information on the record for the maximum Mean Score for the Regents Exam:\n",
    "\n",
    "df.loc[166460]"
   ]
  },
  {
   "cell_type": "code",
   "execution_count": 27,
   "id": "3edfcb44",
   "metadata": {},
   "outputs": [
    {
     "data": {
      "text/plain": [
       "65.4"
      ]
     },
     "execution_count": 27,
     "metadata": {},
     "output_type": "execute_result"
    }
   ],
   "source": [
    "# Identifying median for the \"Mean Score\" column of data for all Regent Exams:\n",
    "\n",
    "df['Mean Score'].median()"
   ]
  },
  {
   "cell_type": "code",
   "execution_count": 28,
   "id": "698cb686",
   "metadata": {},
   "outputs": [
    {
     "data": {
      "text/plain": [
       "65.99896651569192"
      ]
     },
     "execution_count": 28,
     "metadata": {},
     "output_type": "execute_result"
    }
   ],
   "source": [
    "# Identifying mean for the \"Mean Score\" column of data for all Regent Exams:\n",
    "\n",
    "df['Mean Score'].mean()"
   ]
  },
  {
   "cell_type": "code",
   "execution_count": 29,
   "id": "901a3834",
   "metadata": {},
   "outputs": [
    {
     "data": {
      "text/plain": [
       "Index(['School DBN', 'School Name', 'School Level', 'Regents Exam', 'Year',\n",
       "       'Total Tested', 'Mean Score', 'Number Scoring Below 65',\n",
       "       'Percent Scoring Below 65', 'Number Scoring 65 or Above',\n",
       "       'Percent Scoring 65 or Above', 'Number Scoring 80 or Above',\n",
       "       'Percent Scoring 80 or Above', 'Number Scoring CR',\n",
       "       'Percent Scoring CR'],\n",
       "      dtype='object')"
      ]
     },
     "execution_count": 29,
     "metadata": {},
     "output_type": "execute_result"
    }
   ],
   "source": [
    "# Defining the names of the columns:\n",
    "\n",
    "df.columns"
   ]
  },
  {
   "cell_type": "code",
   "execution_count": 30,
   "id": "11c81cf5",
   "metadata": {},
   "outputs": [],
   "source": [
    "# Assigning the new \"Borough\" value based on the data in the Column \"School DBN\" \n",
    "# by extracting symbol #3 which corresponds to the specific Borough\n",
    "# K-Brooklyn, M-Manhattan, Q-Queens, R-Staten Island, X-Bronx\n",
    "\n",
    "df['Borough'] = df['School DBN'].str[2]\n"
   ]
  },
  {
   "cell_type": "code",
   "execution_count": 31,
   "id": "3351ed58",
   "metadata": {},
   "outputs": [
    {
     "data": {
      "text/plain": [
       "Borough\n",
       "K    15.0\n",
       "M    24.9\n",
       "Q    24.3\n",
       "R    29.3\n",
       "X    16.1\n",
       "Name: Mean Score, dtype: float64"
      ]
     },
     "execution_count": 31,
     "metadata": {},
     "output_type": "execute_result"
    }
   ],
   "source": [
    "# Displaying the minimum score for the Regents Exam for each Borough:\n",
    "\n",
    "df.groupby(['Borough'])['Mean Score'].min()"
   ]
  },
  {
   "cell_type": "code",
   "execution_count": 32,
   "id": "331b885c",
   "metadata": {},
   "outputs": [
    {
     "data": {
      "text/plain": [
       "Borough\n",
       "K    96.8\n",
       "M    98.3\n",
       "Q    97.6\n",
       "R    97.0\n",
       "X    98.7\n",
       "Name: Mean Score, dtype: float64"
      ]
     },
     "execution_count": 32,
     "metadata": {},
     "output_type": "execute_result"
    }
   ],
   "source": [
    "# Displaying the maximum score for the Regents Exam for each Borough:\n",
    "\n",
    "df.groupby(['Borough'])['Mean Score'].max()"
   ]
  },
  {
   "cell_type": "code",
   "execution_count": 34,
   "id": "ee036379",
   "metadata": {},
   "outputs": [
    {
     "data": {
      "text/plain": [
       "<Axes: xlabel='Borough'>"
      ]
     },
     "execution_count": 34,
     "metadata": {},
     "output_type": "execute_result"
    },
    {
     "data": {
      "image/png": "[encoded data removed]",
      "text/plain": [
       "<Figure size 640x480 with 1 Axes>"
      ]
     },
     "metadata": {},
     "output_type": "display_data"
    }
   ],
   "source": [
    "### Creating visualization graph of the Mean scores of all boroughs:\n",
    "\n",
    "df.groupby(['Borough'])['Mean Score'].mean().sort_values(ascending=False).plot(kind='bar', color='green', xlabel='Borough')"
   ]
  },
  {
   "cell_type": "code",
   "execution_count": 39,
   "id": "62323e12",
   "metadata": {},
   "outputs": [
    {
     "data": {
      "text/plain": [
       "School Level\n",
       "Junior High-Intermediate-Middle    76.907964\n",
       "K-8                                76.882459\n",
       "K-12 all grades                    71.184131\n",
       "Elementary                         67.800000\n",
       "Secondary School                   66.352460\n",
       "High school                        64.399895\n",
       "Name: Mean Score, dtype: float64"
      ]
     },
     "execution_count": 39,
     "metadata": {},
     "output_type": "execute_result"
    }
   ],
   "source": [
    "### Creating the list of REgents Exam mean scores by School Level:\n",
    "\n",
    "mean_scores=df.groupby('School Level')['Mean Score'].mean().sort_values(ascending=False)\n",
    "mean_scores"
   ]
  },
  {
   "cell_type": "code",
   "execution_count": 35,
   "id": "6dfb3d3a",
   "metadata": {},
   "outputs": [
    {
     "data": {
      "text/plain": [
       "<Axes: xlabel='School Level'>"
      ]
     },
     "execution_count": 35,
     "metadata": {},
     "output_type": "execute_result"
    },
    {
     "data": {
      "image/png": "[encoded data removed]",
      "text/plain": [
       "<Figure size 640x480 with 1 Axes>"
      ]
     },
     "metadata": {},
     "output_type": "display_data"
    }
   ],
   "source": [
    "### Creating visualization graph of the Mean scores by School Level:\n",
    "\n",
    "df.groupby(['School Level'])['Mean Score'].mean().sort_values(ascending=False).plot(kind='bar', color='blue', xlabel='School Level', fontsize=10)"
   ]
  },
  {
   "cell_type": "code",
   "execution_count": 36,
   "id": "0e473a46",
   "metadata": {},
   "outputs": [
    {
     "data": {
      "text/plain": [
       "<Axes: xlabel='Year'>"
      ]
     },
     "execution_count": 36,
     "metadata": {},
     "output_type": "execute_result"
    },
    {
     "data": {
      "image/png": "[encoded data removed]",
      "text/plain": [
       "<Figure size 640x480 with 1 Axes>"
      ]
     },
     "metadata": {},
     "output_type": "display_data"
    }
   ],
   "source": [
    "### Creating visualization graph of the Mean scores by School Year:\n",
    "\n",
    "df.groupby(['Year'])['Mean Score'].mean().sort_values(ascending=False).plot(kind='bar', color='orange', xlabel='Year', fontsize=10)"
   ]
  },
  {
   "cell_type": "markdown",
   "id": "9e5f2391",
   "metadata": {},
   "source": [
    "# Conclusion:"
   ]
  },
  {
   "cell_type": "code",
   "execution_count": 40,
   "id": "0c25afae",
   "metadata": {},
   "outputs": [],
   "source": [
    "### I have analized the NYC Public Schools Data by performing the followiing tasks:\n",
    "### 1) I cleaned up the data by replcing the invalid data by 'NaN'.\n",
    "### 2) I created general statistics of the data, followed by specific Regents Exam mean scores\n",
    "###    reports by Borough and by School Level using the 'groupby' method.\n",
    "### 3) I created vizualizaiton graphs for the Regents Exams mean scores by Borough, School Level and Year.\n",
    "### Conclusion: While the min and max Regents Exam scores are in the very wide range, the mean schores are fairly close\n",
    "### by Borough and Year. However, when we look at the results by School Level, The K-8 and \n",
    "### Junior High-Intermediate-Middle Level Schools are scoring significantly above the others.\n",
    "### Further study is recommended by including attendance and disciplice data to have a deeper understanding\n",
    "### of factors that affect students' performance.\n",
    "       "
   ]
  },
  {
   "cell_type": "code",
   "execution_count": null,
   "id": "f789748f",
   "metadata": {},
   "outputs": [],
   "source": []
  }
 ],
 "metadata": {
  "kernelspec": {
   "display_name": "Python 3 (ipykernel)",
   "language": "python",
   "name": "python3"
  },
  "language_info": {
   "codemirror_mode": {
    "name": "ipython",
    "version": 3
   },
   "file_extension": ".py",
   "mimetype": "text/x-python",
   "name": "python",
   "nbconvert_exporter": "python",
   "pygments_lexer": "ipython3",
   "version": "3.11.5"
  }
 },
 "nbformat": 4,
 "nbformat_minor": 5
}
