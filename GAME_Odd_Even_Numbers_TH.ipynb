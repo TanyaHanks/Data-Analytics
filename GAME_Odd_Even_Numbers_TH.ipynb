{
  "nbformat": 4,
  "nbformat_minor": 0,
  "metadata": {
    "colab": {
      "provenance": [],
      "toc_visible": true
    },
    "kernelspec": {
      "name": "python3",
      "display_name": "Python 3"
    },
    "language_info": {
      "name": "python"
    }
  },
  "cells": [
    {
      "cell_type": "code",
      "source": [],
      "metadata": {
        "id": "Z-vz0Nu0KsW4"
      },
      "execution_count": null,
      "outputs": []
    },
    {
      "cell_type": "code",
      "execution_count": 27,
      "metadata": {
        "id": "qURczwuBCdXy",
        "colab": {
          "base_uri": "https://localhost:8080/"
        },
        "outputId": "a06edb98-1ff1-4728-94d1-6e9e33405b54"
      },
      "outputs": [
        {
          "output_type": "stream",
          "name": "stdout",
          "text": [
            "Welcome to the game of NUMBERS!\n",
            "Enter a number: 12\n",
            "Multiple of 4\n",
            "Keep playing? y/n: y\n",
            "Enter a number: 1\n",
            "Odd\n",
            "Keep playing? y/n: y\n",
            "Enter a number: 80\n",
            "Multiple of 4\n",
            "Keep playing? y/n: y\n",
            "Enter a number: 12\n",
            "Multiple of 4\n",
            "Keep playing? y/n: y\n",
            "Enter a number: 5\n",
            "Odd\n",
            "Keep playing? y/n: n\n",
            "See you soon! Thanks for playing!\n"
          ]
        }
      ],
      "source": [
        "print(\"Welcome to the game of NUMBERS!\")\n",
        "\n",
        "keep_playing = True\n",
        "\n",
        "while keep_playing:\n",
        "\n",
        "  num = input(\"Enter a number: \")\n",
        "\n",
        "  if int(num) % 4 == 0:\n",
        "    print(\"Multiple of 4\")\n",
        "\n",
        "  elif int(num) % 2 == 0  :\n",
        "    print(\"Even\")\n",
        "\n",
        "  else:\n",
        "    print(\"Odd\")\n",
        "\n",
        "  if not input(\"Keep playing? y/n: \") == \"y\":\n",
        "    keep_playing = False\n",
        "\n",
        "print(\"See you soon! Thanks for playing!\")"
      ]
    },
    {
      "cell_type": "markdown",
      "source": [],
      "metadata": {
        "id": "5E3VluqWDmx_"
      }
    },
    {
      "cell_type": "code",
      "source": [
        "\n"
      ],
      "metadata": {
        "id": "4mg8Y_ReJ6TH"
      },
      "execution_count": null,
      "outputs": []
    }
  ]
}